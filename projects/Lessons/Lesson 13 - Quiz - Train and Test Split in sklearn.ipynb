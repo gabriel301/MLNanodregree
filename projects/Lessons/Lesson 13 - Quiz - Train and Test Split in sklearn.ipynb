{
 "cells": [
  {
   "cell_type": "code",
   "execution_count": 2,
   "metadata": {},
   "outputs": [
    {
     "name": "stdout",
     "output_type": "stream",
     "text": [
      "0.966666666667\n"
     ]
    }
   ],
   "source": [
    "#!/usr/bin/python\n",
    "\n",
    "\"\"\" \n",
    "PLEASE NOTE:\n",
    "The api of train_test_split changed and moved from sklearn.cross_validation to\n",
    "sklearn.model_selection(version update from 0.17 to 0.18)\n",
    "\n",
    "The correct documentation for this quiz is here: \n",
    "http://scikit-learn.org/0.17/modules/cross_validation.html\n",
    "\"\"\"\n",
    "\n",
    "from sklearn import datasets\n",
    "from sklearn.svm import SVC\n",
    "\n",
    "iris = datasets.load_iris()\n",
    "features = iris.data\n",
    "labels = iris.target\n",
    "\n",
    "###############################################################\n",
    "### YOUR CODE HERE\n",
    "###############################################################\n",
    "\n",
    "### import the relevant code and make your train/test split\n",
    "### name the output datasets features_train, features_test,\n",
    "### labels_train, and labels_test\n",
    "# PLEASE NOTE: The import here changes depending on your version of sklearn\n",
    "#from sklearn import cross_validation # for version 0.17\n",
    "# For version 0.18\n",
    "from sklearn.model_selection import train_test_split\n",
    "\n",
    "\n",
    "### set the random_state to 0 and the test_size to 0.4 so\n",
    "### we can exactly check your result\n",
    "features_train, features_test, labels_train, labels_test = train_test_split(iris.data,iris.target,test_size=0.4,random_state=0)\n",
    "\n",
    "###############################################################\n",
    "# DONT CHANGE ANYTHING HERE\n",
    "clf = SVC(kernel=\"linear\", C=1.)\n",
    "clf.fit(features_train, labels_train)\n",
    "\n",
    "print clf.score(features_test, labels_test)"
   ]
  }
 ],
 "metadata": {
  "kernelspec": {
   "display_name": "Python 2",
   "language": "python",
   "name": "python2"
  },
  "language_info": {
   "codemirror_mode": {
    "name": "ipython",
    "version": 2
   },
   "file_extension": ".py",
   "mimetype": "text/x-python",
   "name": "python",
   "nbconvert_exporter": "python",
   "pygments_lexer": "ipython2",
   "version": "2.7.13"
  }
 },
 "nbformat": 4,
 "nbformat_minor": 2
}
