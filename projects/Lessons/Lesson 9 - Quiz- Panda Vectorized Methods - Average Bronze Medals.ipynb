{
 "cells": [
  {
   "cell_type": "code",
   "execution_count": 1,
   "metadata": {
    "collapsed": true
   },
   "outputs": [],
   "source": [
    "from pandas import DataFrame, Series\n",
    "import numpy\n",
    "\n",
    "\n",
    "def avg_medal_count():\n",
    "    '''\n",
    "    Compute the average number of bronze medals earned by countries who \n",
    "    earned at least one gold medal.  \n",
    "    \n",
    "    Save this to a variable named avg_bronze_at_least_one_gold. You do not\n",
    "    need to call the function in your code when running it in the browser -\n",
    "    the grader will do that automatically when you submit or test it.\n",
    "    \n",
    "    HINT-1:\n",
    "    You can retrieve all of the values of a Pandas column from a \n",
    "    data frame, \"df\", as follows:\n",
    "    df['column_name']\n",
    "    \n",
    "    HINT-2:\n",
    "    The numpy.mean function can accept as an argument a single\n",
    "    Pandas column. \n",
    "    \n",
    "    For example, numpy.mean(df[\"col_name\"]) would return the \n",
    "    mean of the values located in \"col_name\" of a dataframe df.\n",
    "    '''\n",
    "\n",
    "\n",
    "    countries = ['Russian Fed.', 'Norway', 'Canada', 'United States',\n",
    "                 'Netherlands', 'Germany', 'Switzerland', 'Belarus',\n",
    "                 'Austria', 'France', 'Poland', 'China', 'Korea', \n",
    "                 'Sweden', 'Czech Republic', 'Slovenia', 'Japan',\n",
    "                 'Finland', 'Great Britain', 'Ukraine', 'Slovakia',\n",
    "                 'Italy', 'Latvia', 'Australia', 'Croatia', 'Kazakhstan']\n",
    "\n",
    "    gold = [13, 11, 10, 9, 8, 8, 6, 5, 4, 4, 4, 3, 3, 2, 2, 2, 1, 1, 1, 1, 1, 0, 0, 0, 0, 0]\n",
    "    silver = [11, 5, 10, 7, 7, 6, 3, 0, 8, 4, 1, 4, 3, 7, 4, 2, 4, 3, 1, 0, 0, 2, 2, 2, 1, 0]\n",
    "    bronze = [9, 10, 5, 12, 9, 5, 2, 1, 5, 7, 1, 2, 2, 6, 2, 4, 3, 1, 2, 1, 0, 6, 2, 1, 0, 1]\n",
    "    \n",
    "    olympic_medal_counts = {'country_name':Series(countries),\n",
    "                            'gold': Series(gold),\n",
    "                            'silver': Series(silver),\n",
    "                            'bronze': Series(bronze)}\n",
    "    df = DataFrame(olympic_medal_counts)\n",
    "    \n",
    "    avg_bronze_at_least_one_gold = numpy.mean(df['bronze'][df.gold > 0])\n",
    "    \n",
    "    # YOUR CODE HERE\n",
    "\n",
    "    return avg_bronze_at_least_one_gold"
   ]
  },
  {
   "cell_type": "code",
   "execution_count": 3,
   "metadata": {},
   "outputs": [
    {
     "name": "stdout",
     "output_type": "stream",
     "text": [
      "4.2380952381\n"
     ]
    }
   ],
   "source": [
    "def main():\n",
    "    result = avg_medal_count()\n",
    "    print result\n",
    "\n",
    "if __name__ == \"__main__\":\n",
    "    main()"
   ]
  },
  {
   "cell_type": "code",
   "execution_count": null,
   "metadata": {
    "collapsed": true
   },
   "outputs": [],
   "source": []
  }
 ],
 "metadata": {
  "kernelspec": {
   "display_name": "Python 2",
   "language": "python",
   "name": "python2"
  },
  "language_info": {
   "codemirror_mode": {
    "name": "ipython",
    "version": 2
   },
   "file_extension": ".py",
   "mimetype": "text/x-python",
   "name": "python",
   "nbconvert_exporter": "python",
   "pygments_lexer": "ipython2",
   "version": "2.7.13"
  }
 },
 "nbformat": 4,
 "nbformat_minor": 2
}
