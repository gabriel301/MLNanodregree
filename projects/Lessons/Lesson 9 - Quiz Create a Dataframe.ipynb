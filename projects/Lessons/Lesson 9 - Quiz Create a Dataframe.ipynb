{
 "cells": [
  {
   "cell_type": "code",
   "execution_count": 18,
   "metadata": {
    "collapsed": true
   },
   "outputs": [],
   "source": [
    "from pandas import DataFrame, Series\n",
    "\n",
    "#################\n",
    "# Syntax Reminder:\n",
    "#\n",
    "# The following code would create a two-column pandas DataFrame\n",
    "# named df with columns labeled 'name' and 'age':\n",
    "#\n",
    "# people = ['Sarah', 'Mike', 'Chrisna']\n",
    "# ages  =  [28, 32, 25]\n",
    "# df = DataFrame({'name' : Series(people),\n",
    "#                 'age'  : Series(ages)})\n",
    "\n",
    "def create_dataframe():\n",
    "    '''\n",
    "    Create a pandas dataframe called 'olympic_medal_counts_df' containing\n",
    "    the data from the table of 2014 Sochi winter olympics medal counts.  \n",
    "\n",
    "    The columns for this dataframe should be called \n",
    "    'country_name', 'gold', 'silver', and 'bronze'.  \n",
    "\n",
    "    There is no need to  specify row indexes for this dataframe \n",
    "    (in this case, the rows will automatically be assigned numbered indexes).\n",
    "    \n",
    "    You do not need to call the function in your code when running it in the\n",
    "    browser - the grader will do that automatically when you submit or test it.\n",
    "    '''\n",
    "\n",
    "    countries = ['Russian Fed.', 'Norway', 'Canada', 'United States',\n",
    "                 'Netherlands', 'Germany', 'Switzerland', 'Belarus',\n",
    "                 'Austria', 'France', 'Poland', 'China', 'Korea', \n",
    "                 'Sweden', 'Czech Republic', 'Slovenia', 'Japan',\n",
    "                 'Finland', 'Great Britain', 'Ukraine', 'Slovakia',\n",
    "                 'Italy', 'Latvia', 'Australia', 'Croatia', 'Kazakhstan']\n",
    "\n",
    "    gold = [13, 11, 10, 9, 8, 8, 6, 5, 4, 4, 4, 3, 3, 2, 2, 2, 1, 1, 1, 1, 1, 0, 0, 0, 0, 0]\n",
    "    silver = [11, 5, 10, 7, 7, 6, 3, 0, 8, 4, 1, 4, 3, 7, 4, 2, 4, 3, 1, 0, 0, 2, 2, 2, 1, 0]\n",
    "    bronze = [9, 10, 5, 12, 9, 5, 2, 1, 5, 7, 1, 2, 2, 6, 2, 4, 3, 1, 2, 1, 0, 6, 2, 1, 0, 1]\n",
    "\n",
    "    # your code here\n",
    "    data = {'country_name': Series(countries),   \n",
    "            'gold': Series(gold),\n",
    "            'silver': Series(silver),\n",
    "            'bronze': Series(bronze)\n",
    "        }\n",
    "    \n",
    "    olympic_medal_counts_df = DataFrame(data)\n",
    "    return olympic_medal_counts_df\n"
   ]
  },
  {
   "cell_type": "code",
   "execution_count": 19,
   "metadata": {},
   "outputs": [
    {
     "name": "stdout",
     "output_type": "stream",
     "text": [
      "    bronze    country_name  gold  silver\n",
      "0        9    Russian Fed.    13      11\n",
      "1       10          Norway    11       5\n",
      "2        5          Canada    10      10\n",
      "3       12   United States     9       7\n",
      "4        9     Netherlands     8       7\n",
      "5        5         Germany     8       6\n",
      "6        2     Switzerland     6       3\n",
      "7        1         Belarus     5       0\n",
      "8        5         Austria     4       8\n",
      "9        7          France     4       4\n",
      "10       1          Poland     4       1\n",
      "11       2           China     3       4\n",
      "12       2           Korea     3       3\n",
      "13       6          Sweden     2       7\n",
      "14       2  Czech Republic     2       4\n",
      "15       4        Slovenia     2       2\n",
      "16       3           Japan     1       4\n",
      "17       1         Finland     1       3\n",
      "18       2   Great Britain     1       1\n",
      "19       1         Ukraine     1       0\n",
      "20       0        Slovakia     1       0\n",
      "21       6           Italy     0       2\n",
      "22       2          Latvia     0       2\n",
      "23       1       Australia     0       2\n",
      "24       0         Croatia     0       1\n",
      "25       1      Kazakhstan     0       0\n"
     ]
    }
   ],
   "source": [
    "def main():\n",
    "    result = create_dataframe()\n",
    "    print result\n",
    "\n",
    "if __name__ == \"__main__\":\n",
    "    main()"
   ]
  },
  {
   "cell_type": "code",
   "execution_count": null,
   "metadata": {
    "collapsed": true
   },
   "outputs": [],
   "source": []
  },
  {
   "cell_type": "code",
   "execution_count": null,
   "metadata": {
    "collapsed": true
   },
   "outputs": [],
   "source": []
  }
 ],
 "metadata": {
  "kernelspec": {
   "display_name": "Python 2",
   "language": "python",
   "name": "python2"
  },
  "language_info": {
   "codemirror_mode": {
    "name": "ipython",
    "version": 2
   },
   "file_extension": ".py",
   "mimetype": "text/x-python",
   "name": "python",
   "nbconvert_exporter": "python",
   "pygments_lexer": "ipython2",
   "version": "2.7.13"
  }
 },
 "nbformat": 4,
 "nbformat_minor": 2
}
