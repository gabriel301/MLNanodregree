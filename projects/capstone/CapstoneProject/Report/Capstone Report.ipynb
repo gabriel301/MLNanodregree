{
 "cells": [
  {
   "cell_type": "markdown",
   "metadata": {},
   "source": [
    "# Machine Learning Engineer Nanodegree\n",
    "## Capstone Project: Building a Stock Price Predictor\n",
    "Gabriel Augusto  \n",
    "November 21st, 2017"
   ]
  },
  {
   "cell_type": "markdown",
   "metadata": {},
   "source": [
    "## I. Definition\n",
    "\n",
    "### Project Overview\n",
    "The main objective for this project is to be capable to predict the **price of a given set stock** in a future time interval. In order to achieve the goal, Machine Learning techniques will be applied on the historical **adjusted closing prices** for a set of **companies stocks** listed in the **B3 exchange** in 2017. \n",
    "\n",
    "#### What is a stock?\n",
    "\n",
    "<p> According to Investopedia: <br>\n",
    "\n",
    "\"*A stock is a type of security that signifies ownership in a corporation and represents a claim on part of the corporation's assets and earnings. <br>\n",
    "There are two main types of stock: common and preferred. Common stock usually entitles the owner to vote at shareholders' meetings and to receive dividends. Preferred stock generally does not have voting rights, but has a higher claim on assets and earnings than the common shares. For example, owners of preferred stock receive dividends before common shareholders and have priority in the event that a company goes bankrupt and is liquidated.*\" [1] </p>\n",
    "\n",
    "#### What is an exchange? <br>\n",
    "\n",
    "<p>According to Investopedia: <br>\n",
    "\n",
    "\"*An exchange is a marketplace in which securities, commodities, derivatives and other financial instruments are traded. The core function of an exchange is to ensure fair and orderly trading, as well as efficient dissemination of price information for any securities trading on that exchange. Exchanges give companies, governments and other groups a platform to sell securities to the investing public. <br>\n",
    "A stock exchange is used to raise capital for companies seeking to grow and expand their operations.*\"[4]</p>\n",
    "\n",
    "#### What is a company's worth, and who determines its stock price? <br>\n",
    "\n",
    "<p> \"*A company's worth, that is its total value,is its market capitalization, and it is represented by the company's stock price. Market cap (as it is commonly referred to) is equal to the stock price multiplied by the number of shares outstanding.* </p> \n",
    "<p> *For example, Microsoft (MSFT) is trading for 71.41 USD, as of August 10th 2017, and has 7.7 billion shares outstanding/trading. Therefore, the company is valued at 71.14 USD x 7.7 billion = 550 billion USD. Thus, the stock price is a relative and proportional value of a company's worth and only represents percentage changes in market cap at any given point in time. Any percentage changes in a stock price will result in an equal percentage change in a company's value. This is the reason why investors are so concerned with stock prices and any changes that may occur since a 0.10 USD drop in a stock can result in a 100,000 USD loss for shareholders with one million shares.* </p>\n",
    "<p> *The next logical question is: Who sets stock prices and how are they calculated? In simple terms, the stock price of a company is calculated when a company goes public, an event called an initial public offering (IPO). This is when a company pays an investment bank lots of money to use very complex formulas and valuation techniques to derive a company's value and to determine how many shares will be offered to the public and at what price. *</p>\n",
    "<p> *After a company goes public and starts trading on the exchange, its price is determined by supply and demand for its shares in the market. If there is a high demand for its shares due to favorable factors, the price would increase. If the company's future growth potential doesn't look good, short sellers could drive down its price.\"* [5] </p>\n",
    "\n",
    "#### What is an Adjusted Closing Price <br>\n",
    "<p> \"*An adjusted closing price is a stock's closing price on any given day of trading that has been amended to include any distributions and corporate actions such as __stock splits__, __dividends payments__ and __rights offerings__ that occurred at any time prior to the next day's open. The adjusted closing price is often used when examining historical returns or performing a detailed analysis on historical returns.* </p>\n",
    "\n",
    "<p>*A __stock split__ is a corporate action that is usually done by companies to make their share prices more marketable. A stock split does not affect a company's total market capitalization, but it does affect the company's stock price. Consequently, a company undergoing a stock split must adjust its closing price to depict the effect of the corporate action.*\n",
    "</p>\n",
    "\n",
    "<p>*Common distributions that affect a stock's price include __cash dividends and stock dividends__. The difference between cash dividends and stock dividends is shareholders are entitled to a predetermined price per share and additional shares, respectively. For example, assume a company declared a 1 USD cash dividend and is trading at 51 USD per share on the ex-dividend date. On the ex-dividend date, the stock price is reduced by 1 USD and the adjusted closing price is 50 USD.*\n",
    "</p>\n",
    "\n",
    "<p>*A stock's adjusted closing price also reflects __rights offerings__ that may occur. A rights offering is an issue of rights given to existing shareholders, which entitles the shareholders to subscribe to the rights issue in proportion to their shares. For example assume a company declares a rights offering, in which existing shareholders are entitled to one additional share for every two shares owned. Assume the stock is trading at 50 USD and existing shareholders are able to purchase additional shares at a subscription price of 45 USD. On the ex-date, the adjusted closing price is calculated based on the adjusting factor and the closing price.*\"[6] </p>\n",
    "\n",
    "#### The beginning <br>\n",
    "\n",
    "<p>Back in the 15th century people already negotiated foreign currencies and valuable metals. At that time, some stock exchanges were created in Europe such as the \"bourse\" of Antwerp in Belgium (1561) and The Royal Exchange in England (1571).\n",
    "The Dutch East India Company in Netherlands issued the first known stock certificate in 1606. This company traded spices between Amsterdam and East India (Indonesia) and operated similarly companies operate nowadays, with directors controlling company's operations and shareholders receiving a dividend of 16% per year. As the company issued shares on paper, investors also began to sell their shares to other investors. [2] </p><br>\n",
    "<p>In the United States, the fisrt stock price was established in Philadelphia in 1790 and was called \"The Board of Brokers\". Now it is a part of NASDAQ, known as NASDAQ OMX PHLX. \n",
    "Shortly after the establisment of the Philadelphia Stock Exchange, the stock markert started to grow in New York, moved by 24 stock brokers outside of 68 Wall Street. As the market became more structured, in 1817 the New York Stock and Exchange Board was established.[2] </p> <br>\n",
    "\n",
    "#### The B3 <br>\n",
    "\n",
    "<p> The B3 (Brasil,Bolsa,Balcão) is the official stock exchange in Brazil. It is settle in São Paulo and it is the result of a fusion between BM&FBOVESPA and CETIP S.A. in 2017. BM&FBOVESPA was created early in 2008 being a result of another fusion between two stock exchanges: São Paulo Stock Exchange (Bovespa) established in 1890 and Brazilian Mercantile and Futures Exchange (BM&F), established in 1917. [3] </p><br>\n",
    "\n",
    "\n",
    "### Problem Statement\n",
    "Given historical adjusted closing prices data for different stocks, is it possible to predict those stock prices for the future?\n",
    "In order to implement this task, two data sets will be needed: <br>\n",
    "1. A list of all companies currently listed in B3\n",
    "2. Daily adjusted closing prices for all the companies listed since 1st Ja\n",
    "\n",
    "The expected output is a price estimate for the companies and time interval queried, with and error of +/-5%. <br>\n",
    "\n",
    "#### Problem Domain\n",
    "\n"
   ]
  },
  {
   "cell_type": "markdown",
   "metadata": {
    "collapsed": true
   },
   "source": [
    "### References\n",
    "[1]: https://www.investopedia.com/terms/s/stock.asp (Accessed in 2017-11-26)<br>\n",
    "[2]: http://www.stock-trading-warrior.com/Origins-of-the-Stock-Market.html (Accessed in 2017-11-22) <br>\n",
    "[3]: https://en.wikipedia.org/wiki/B3_(stock_exchange) (Accessed in 2017-11-22) <br>\n",
    "[4]: https://www.investopedia.com/terms/e/exchange.asp (Accessed in 2017-11-26)<br>\n",
    "[5]: https://www.investopedia.com/ask/answers/133.asp?ad=dirN&qo=investopediaSiteSearch&qsrc=0&o=40186 (Accessed in 2017-11-26)<br>\n",
    "[6]: https://www.investopedia.com/terms/a/adjusted_closing_price.asp (Accessed in 2017-11-26) <br>"
   ]
  },
  {
   "cell_type": "code",
   "execution_count": null,
   "metadata": {
    "collapsed": true
   },
   "outputs": [],
   "source": []
  },
  {
   "cell_type": "code",
   "execution_count": null,
   "metadata": {
    "collapsed": true
   },
   "outputs": [],
   "source": []
  }
 ],
 "metadata": {
  "kernelspec": {
   "display_name": "Python 2",
   "language": "python",
   "name": "python2"
  },
  "language_info": {
   "codemirror_mode": {
    "name": "ipython",
    "version": 2
   },
   "file_extension": ".py",
   "mimetype": "text/x-python",
   "name": "python",
   "nbconvert_exporter": "python",
   "pygments_lexer": "ipython2",
   "version": "2.7.13"
  }
 },
 "nbformat": 4,
 "nbformat_minor": 2
}
